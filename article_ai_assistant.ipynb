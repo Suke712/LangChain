{
 "cells": [
  {
   "cell_type": "markdown",
   "id": "bbe6350c",
   "metadata": {},
   "source": [
    "We start by initializing our LLM. "
   ]
  },
  {
   "cell_type": "code",
   "execution_count": 2,
   "id": "7b21cf25",
   "metadata": {},
   "outputs": [],
   "source": [
    "from langchain_ollama import OllamaLLM\n",
    "\n",
    "# For normal, accurate responses (low temperature)\n",
    "llm = OllamaLLM(model=\"llama3:instruct\", temperature=0.0)\n",
    "\n",
    "# For unique, creative responses (higher temperature)\n",
    "creative_llm = OllamaLLM(model=\"llama3:instruct\", temperature=0.9)\n"
   ]
  },
  {
   "cell_type": "markdown",
   "id": "2736b3d7",
   "metadata": {},
   "source": [
    "We will be taking an `article` _draft_ and using LangChain to generate various useful items around this article. We'll be creating:\n",
    "\n",
    "1. An article title\n",
    "2. An article description\n",
    "3. Editor advice where we will insert an additional paragraph in the article\n",
    "4. A thumbnail / hero image for our article."
   ]
  },
  {
   "cell_type": "code",
   "execution_count": 12,
   "id": "09b39899",
   "metadata": {},
   "outputs": [],
   "source": [
    "article = \"\"\"\n",
    "\n",
    "Spider-Man swings into AGE OF REVELATION in this week's Marvel Comics!\n",
    "\n",
    "Unfriendly and unstable! X years later, the X-Virus decimated New York—but Spider-Man won't stop fighting in RADIOACTIVE SPIDER-MAN (2025) #1 by Joe Kelly and Kev Walker. In a desperate gamble, Peter Parker doses himself with lethal radiation to hold the infection at bay. Survival comes at a cost. While this may not kill Peter Parker, it sure messes him up. This is the most dangerous, mutated Spider-Man ever—and he's not alone.\n",
    "\n",
    "Behold Peter Parker's next evolution in RADIOACTIVE SPIDER-MAN (2025) #1, on sale this Wednesday, October 22!\n",
    "\n",
    "RADIOACTIVE SPIDER-MAN (2025) #1 cover by Giuseppe Camuncoli\n",
    "RADIOACTIVE SPIDER-MAN (2025) #1 cover by Giuseppe Camuncoli\n",
    "AGE OF REVELATION rages on in Jed MacKay and Netho Diaz's X-MEN: BOOK OF REVELATION (2025) #1, where the Game of Power commences! X years later, after the assassination of one of his prized Choristers, Revelation welcomes a new mutant to his capital city of Philadelphia. But the capital of the Revelation Territories hides many dangers, not the least of which are her rival Choristers—and Fabian Cortez will allow no one to challenge him for Revelation's favor. But this new mutant has a secret ally—the Ghost of Philadelphia!\n",
    "\n",
    "What happened to Wolverine? X years later, in THE LAST WOLVERINE (2025) #1 by Saladin Ahmed and Edgar Salazar, the people of Vancouver cheer a new hero: the Wonderful Wolverine, AKA the Wendigo, Logan's last student. But what happened to Logan? A secret from Wolverine's past will set the Last Wolverine on a mission to uphold his mentor's legacy… unless a dire threat burns it all down first!\n",
    "\n",
    "Elsewhere, Kid Omega's all grown up for Tony Fleecs and Andres Genolet's OMEGA KIDS (2025) #1! X years later, Quentin Quire protects the dream of mutant supremacy and independence as head of the Revelation Territories' spy network. But when a conspiracy threatens the mutant utopia, Quire and his psychic students will have to distinguish friend from foe. Has Quentin got what it takes to carry the dream forward, or will the next generation replace the former revolutionary?\n",
    "\n",
    "Over in the new Ultimate Universe, Miles Morales faces a showdown with the Maker's Council for ULTIMATE SPIDER-MAN: INCURSION (2025) #5 by Deniz Camp, Cody Ziglar, and Jonas Scharf! The clock is ticking for Miles to escape the Ultimate Universe with his baby sister! How will Miles leave a mark on the Ultimate Universe? And how will the Ultimate Universe leave a mark on Miles?! Don't miss the exciting conclusion…and what it bodes for the future of both universes!\n",
    "\n",
    "Meanwhile, now that the Ultimates are using the Immortus Engine to its full capacity, Doom's dream of the Ultimate Fantastic Four may finally be realized in Deniz Camp and Phil Noto's ULTIMATES (2024) #17. \n",
    "\n",
    "Then, as the Ultimate Universe hurtles towards its conclusion, behold the last will and testament of [REDACTED] in ULTIMATE SPIDER-MAN (2024) #22 by Jonathan Hickman and Marco Checchetto!\n",
    "\n",
    "See Spider-Man's radioactive evolution, meet the Last Wolverine, escape the Ultimate Universe with Miles Morales, and more by picking up the latest titles this week! From fresh comics to collections and even Marvel Unlimited, find the full list of new releases here!\n",
    "\"\"\"\n"
   ]
  },
  {
   "cell_type": "markdown",
   "id": "c46a01c0",
   "metadata": {},
   "source": [
    "## Preparing our Prompts"
   ]
  },
  {
   "cell_type": "markdown",
   "id": "49e84201",
   "metadata": {},
   "source": [
    "Prompts for chat agents are at a minimum broken up into three components, those are:\n",
    "\n",
    "* System prompt: this provides the instructions to our LLM on how it must behave, what it's objective is, etc.\n",
    "\n",
    "* User prompt: this is a user written input.\n",
    "\n",
    "* AI prompt: this is the AI generated output. When representing a conversation, previous generations will be inserted back into the next prompt and become part of the broader _chat history_.\n",
    "\n",
    "```\n",
    "You are a helpful AI assistant, you will do XYZ.    | SYSTEM PROMPT\n",
    "\n",
    "User: Hi, what is the capital of Australia?         | USER PROMPT\n",
    "AI: It is Canberra                                  | AI PROMPT\n",
    "User: When is the best time to visit?               | USER PROMPT\n",
    "```\n",
    "\n",
    "LangChain provides us with _templates_ for each of these prompt types. By using templates we can insert different inputs to the template, modifying the prompt based on the provided inputs."
   ]
  },
  {
   "cell_type": "code",
   "execution_count": 13,
   "id": "0a04ab79",
   "metadata": {},
   "outputs": [],
   "source": [
    "from langchain_core.prompts import ChatPromptTemplate, HumanMessagePromptTemplate, SystemMessagePromptTemplate\n",
    "\n",
    "# Defining the system prompt (how the AI should act)\n",
    "system_prompt = SystemMessagePromptTemplate.from_template(template = \"You are an AI assistant called {name} that helps generate article titles.\")\n",
    "\n",
    "# The user prompt, parameterized over \"article\"\n",
    "user_prompt = HumanMessagePromptTemplate.from_template(template= \"\"\"You are tasked with creating a name for an article.\n",
    "The article is here for you to examine: {article}\n",
    "\n",
    "The name should be based on the context of the article.\n",
    "Be creative, but make sure the names are clear, catchy,\n",
    "and relevant to the theme of the article.\n",
    "\n",
    "Only output the article name, no other explanation or\n",
    "text can be provided.\"\"\"\n",
    ")\n",
    "\n",
    "# Combine prompts using ChatPromptTemplate\n",
    "first_prompt = ChatPromptTemplate.from_messages([system_prompt, user_prompt])\n"
   ]
  },
  {
   "cell_type": "code",
   "execution_count": 14,
   "id": "0c6b1767",
   "metadata": {},
   "outputs": [
    {
     "name": "stdout",
     "output_type": "stream",
     "text": [
      "['article', 'name']\n"
     ]
    }
   ],
   "source": [
    "print(first_prompt.input_variables)"
   ]
  },
  {
   "cell_type": "code",
   "execution_count": 15,
   "id": "5131880f",
   "metadata": {},
   "outputs": [
    {
     "name": "stdout",
     "output_type": "stream",
     "text": [
      "content='You are tasked with creating a name for an article.\\nThe article is here for you to examine: Test Article\\n\\nThe name should be based on the context of the article.\\nBe creative, but make sure the names are clear, catchy,\\nand relevant to the theme of the article.\\n\\nOnly output the article name, no other explanation or\\ntext can be provided.' additional_kwargs={} response_metadata={}\n"
     ]
    }
   ],
   "source": [
    "print(user_prompt.format(article = \"Test Article\"))"
   ]
  },
  {
   "cell_type": "code",
   "execution_count": 16,
   "id": "859b523b",
   "metadata": {},
   "outputs": [
    {
     "name": "stdout",
     "output_type": "stream",
     "text": [
      "System: You are an AI assistant called Jarvis that helps generate article titles.\n",
      "Human: You are tasked with creating a name for an article.\n",
      "The article is here for you to examine:  Test Article\n",
      "\n",
      "The name should be based on the context of the article.\n",
      "Be creative, but make sure the names are clear, catchy,\n",
      "and relevant to the theme of the article.\n",
      "\n",
      "Only output the article name, no other explanation or\n",
      "text can be provided.\n"
     ]
    }
   ],
   "source": [
    "formatted = first_prompt.format_messages(article=\" Test Article\", name = \"Jarvis\")\n",
    "\n",
    "for msg in formatted:\n",
    "    print(f\"{msg.type.capitalize()}: {msg.content}\")"
   ]
  },
  {
   "cell_type": "markdown",
   "id": "9949a8eb",
   "metadata": {},
   "source": [
    "`ChatPromptTemplate` also prefixes each individual message with it's role, ie `System:`, `Human:`, or `AI:`.\n",
    "\n",
    "We can chain together our `first_prompt` template and the `llm` object we defined earlier to create a simple LLM chain. This chain will perform the steps **prompt formatting > llm generation > get output**.\n",
    "\n",
    "We'll be using **L**ang**C**hain **E**xpression **L**anguage (LCEL) to construct our chain. We define our inputs with the first dictionary segment (ie `{\"article\": lambda x: x[\"article\"]}`) and then we use the pipe operator (`|`) to say that the output from the left of the pipe will be fed into the input to the right of the pipe."
   ]
  },
  {
   "cell_type": "code",
   "execution_count": 17,
   "id": "40eae091",
   "metadata": {},
   "outputs": [],
   "source": [
    "chain_one = (\n",
    "    {\"article\": lambda x: x[\"article\"], \"name\": lambda x: x[\"name\"]} | first_prompt | creative_llm | {\"article_title\": lambda x: x}\n",
    ")"
   ]
  },
  {
   "cell_type": "code",
   "execution_count": 18,
   "id": "2688132e",
   "metadata": {},
   "outputs": [
    {
     "name": "stdout",
     "output_type": "stream",
     "text": [
      "{'article_title': '\"Marvel\\'s Mutated Mayhem: Evolution Unleashed!\"'}\n"
     ]
    }
   ],
   "source": [
    "result = chain_one.invoke({\"article\": article, \"name\": \"Jarvis\"})\n",
    "print(result)\n"
   ]
  },
  {
   "cell_type": "code",
   "execution_count": 19,
   "id": "f69736cf",
   "metadata": {},
   "outputs": [],
   "source": [
    "chain_two = (\n",
    "    {\"article\": lambda x: x[\"article\"], \"name\": lambda x: x[\"name\"]} | first_prompt | llm | {\"article_title\": lambda x: x}\n",
    ")"
   ]
  },
  {
   "cell_type": "code",
   "execution_count": 20,
   "id": "339fea55",
   "metadata": {},
   "outputs": [
    {
     "name": "stdout",
     "output_type": "stream",
     "text": [
      "{'article_title': '\"Marvel\\'s Mutant Mayhem: A New Era Unleashed\"'}\n"
     ]
    }
   ],
   "source": [
    "result = chain_two.invoke({\"article\": article, \"name\": \"Jarvis\"})\n",
    "print(result)"
   ]
  }
 ],
 "metadata": {
  "kernelspec": {
   "display_name": "LangChain",
   "language": "python",
   "name": "python3"
  },
  "language_info": {
   "codemirror_mode": {
    "name": "ipython",
    "version": 3
   },
   "file_extension": ".py",
   "mimetype": "text/x-python",
   "name": "python",
   "nbconvert_exporter": "python",
   "pygments_lexer": "ipython3",
   "version": "3.12.7"
  }
 },
 "nbformat": 4,
 "nbformat_minor": 5
}
